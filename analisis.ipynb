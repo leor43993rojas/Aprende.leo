{
 "cells": [
  {
   "cell_type": "code",
   "execution_count": null,
   "id": "3210207a",
   "metadata": {
    "vscode": {
     "languageId": "plaintext"
    }
   },
   "outputs": [],
   "source": [
    "import numpy as np, pandas as pd, matplotlib.pyplot as plt\n",
    "df = pd.DataFrame({\"t\": np.arange(50), \"sen\": np.sin(np.arange(50)/5)})\n",
    "df.plot(x=\"t\", y=\"sen\")\n",
    "plt.show()"
   ]
  }
 ],
 "metadata": {
  "language_info": {
   "name": "python"
  }
 },
 "nbformat": 4,
 "nbformat_minor": 5
}
